{
 "cells": [
  {
   "cell_type": "code",
   "execution_count": 1,
   "metadata": {},
   "outputs": [],
   "source": [
    "import requests\n",
    "from datetime import datetime"
   ]
  },
  {
   "cell_type": "code",
   "execution_count": 7,
   "metadata": {},
   "outputs": [
    {
     "name": "stdout",
     "output_type": "stream",
     "text": [
      "Latitude: 37.7790262, Longitude: -122.419906\n"
     ]
    }
   ],
   "source": [
    "def get_lat_lon(city, api_key):\n",
    "    base_url = \"https://api.opencagedata.com/geocode/v1/json\"\n",
    "    params = {\n",
    "        'q': city,\n",
    "        'key': api_key,\n",
    "    }\n",
    "\n",
    "    response = requests.get(base_url, params=params)\n",
    "    data = response.json()\n",
    "\n",
    "    if 'results' in data and data['results']:\n",
    "        lat = data['results'][0]['geometry']['lat']\n",
    "        lon = data['results'][0]['geometry']['lng']\n",
    "        print(f'Latitude: {lat}, Longitude: {lon}')\n",
    "    else:\n",
    "        print(f'Error: City not found')\n",
    "\n",
    "if __name__ == \"__main__\":\n",
    "    opencage_api_key = 'b5ecfef7c1aa4bcca94bbe1e267c8d38'\n",
    "    city_name = 'San Francisco'  # Replace with the desired city name\n",
    "\n",
    "    get_lat_lon(city_name, opencage_api_key)\n"
   ]
  },
  {
   "cell_type": "code",
   "execution_count": 10,
   "metadata": {},
   "outputs": [
    {
     "name": "stdout",
     "output_type": "stream",
     "text": [
      "Current Temperature: 61.09°F, Description: clear sky\n",
      "\n",
      "Hourly Forecast:\n",
      "2023-11-28 06:00:00: Temperature: 61.09°F, Description: clear sky\n",
      "2023-11-28 07:00:00: Temperature: 61.16°F, Description: clear sky\n",
      "2023-11-28 08:00:00: Temperature: 60.96°F, Description: clear sky\n",
      "2023-11-28 09:00:00: Temperature: 58.73°F, Description: clear sky\n",
      "2023-11-28 10:00:00: Temperature: 56.21°F, Description: clear sky\n"
     ]
    }
   ],
   "source": [
    "\n",
    "\n",
    "def kelvin_to_fahrenheit(kelvin):\n",
    "    return (kelvin - 273.15) * 9/5 + 32\n",
    "\n",
    "def get_weather(api_key, lat, lon):\n",
    "    base_url = \"https://api.openweathermap.org/data/3.0/onecall\"\n",
    "    params = {\n",
    "        'lat': lat,\n",
    "        'lon': lon,\n",
    "        'appid': api_key,\n",
    "    }\n",
    "\n",
    "    response = requests.get(base_url, params=params)\n",
    "    weather_data = response.json()\n",
    "\n",
    "    if response.status_code == 200:\n",
    "        current_weather = weather_data['current']\n",
    "        temperature = kelvin_to_fahrenheit(current_weather['temp'])\n",
    "        description = current_weather['weather'][0]['description']\n",
    "        print(f'Current Temperature: {temperature:.2f}°F, Description: {description}')\n",
    "\n",
    "        hourly_forecast = weather_data['hourly'][:5]  # Display the next 5 hours\n",
    "        print('\\nHourly Forecast:')\n",
    "        for hour in hourly_forecast:\n",
    "            timestamp = hour['dt']\n",
    "            time = datetime.utcfromtimestamp(timestamp).strftime('%Y-%m-%d %H:%M:%S')  # Convert to 24-hour format\n",
    "            temperature = kelvin_to_fahrenheit(hour['temp'])\n",
    "            description = hour['weather'][0]['description']\n",
    "            print(f'{time}: Temperature: {temperature:.2f}°F, Description: {description}')\n",
    "\n",
    "    else:\n",
    "        print(f'Error: {weather_data[\"message\"]}')\n",
    "\n",
    "if __name__ == \"__main__\":\n",
    "    api_key = '7f871ddb848a8b5a87a606955f123c69'\n",
    "    latitude = chosen_lat\n",
    "    longitude = chosen_long\n",
    "\n",
    "    get_weather(api_key, latitude, longitude)\n"
   ]
  },
  {
   "cell_type": "code",
   "execution_count": null,
   "metadata": {},
   "outputs": [],
   "source": []
  }
 ],
 "metadata": {
  "kernelspec": {
   "display_name": "base",
   "language": "python",
   "name": "python3"
  },
  "language_info": {
   "codemirror_mode": {
    "name": "ipython",
    "version": 3
   },
   "file_extension": ".py",
   "mimetype": "text/x-python",
   "name": "python",
   "nbconvert_exporter": "python",
   "pygments_lexer": "ipython3",
   "version": "3.11.4"
  },
  "orig_nbformat": 4
 },
 "nbformat": 4,
 "nbformat_minor": 2
}
