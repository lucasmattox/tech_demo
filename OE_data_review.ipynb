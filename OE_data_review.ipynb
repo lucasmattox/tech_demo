{
 "cells": [
  {
   "cell_type": "code",
   "execution_count": 46,
   "metadata": {},
   "outputs": [],
   "source": [
    "import pandas as pd\n",
    "import numpy as np\n",
    "import matplotlib.pyplot as plt\n",
    "import openpyxl\n",
    "\n"
   ]
  },
  {
   "cell_type": "code",
   "execution_count": 158,
   "metadata": {},
   "outputs": [
    {
     "name": "stderr",
     "output_type": "stream",
     "text": [
      "/Users/lucasmattox/anaconda3/lib/python3.11/site-packages/openpyxl/packaging/relationship.py:136: UserWarning: xl/pivotCache/_rels/pivotCacheDefinition1.xml.rels contains invalid dependency definitions\n",
      "  warn(msg)\n",
      "/Users/lucasmattox/anaconda3/lib/python3.11/site-packages/openpyxl/packaging/relationship.py:136: UserWarning: xl/pivotCache/_rels/pivotCacheDefinition2.xml.rels contains invalid dependency definitions\n",
      "  warn(msg)\n"
     ]
    }
   ],
   "source": [
    "# workbook = openpyxl.load_workbook(\"OE_data_to_Lucas_final.xlsx\")  \n",
    "workbook = openpyxl.load_workbook(\"OE_data_cleaned.xlsx\") \n",
    "sheet = workbook.active  # Select the active sheet\n",
    "\n",
    "data = sheet.values\n",
    "data = list(data)  # Convert the values to a list of lists\n",
    "\n",
    "# Create a DataFrame from the list of lists\n",
    "df = pd.DataFrame(data[1:], columns=data[0])  # Skip the first row (header)\n"
   ]
  },
  {
   "cell_type": "code",
   "execution_count": 159,
   "metadata": {},
   "outputs": [
    {
     "data": {
      "text/html": [
       "<div>\n",
       "<style scoped>\n",
       "    .dataframe tbody tr th:only-of-type {\n",
       "        vertical-align: middle;\n",
       "    }\n",
       "\n",
       "    .dataframe tbody tr th {\n",
       "        vertical-align: top;\n",
       "    }\n",
       "\n",
       "    .dataframe thead th {\n",
       "        text-align: right;\n",
       "    }\n",
       "</style>\n",
       "<table border=\"1\" class=\"dataframe\">\n",
       "  <thead>\n",
       "    <tr style=\"text-align: right;\">\n",
       "      <th></th>\n",
       "      <th>RESPONDENT ID</th>\n",
       "      <th>COUNTRY</th>\n",
       "      <th>AGE</th>\n",
       "      <th>AGE GROUP</th>\n",
       "      <th>SONIC FANSHIP</th>\n",
       "      <th>MARIO FANSHIP</th>\n",
       "      <th>POKEMON FANSHIP</th>\n",
       "      <th>LEGO FANSHIP</th>\n",
       "      <th>MINECRAFT FANSHIP</th>\n",
       "      <th>MARVEL FANSHIP</th>\n",
       "      <th>FAVORITE GAMING BRAND</th>\n",
       "    </tr>\n",
       "  </thead>\n",
       "  <tbody>\n",
       "    <tr>\n",
       "      <th>0</th>\n",
       "      <td>001bdqhr2698q362</td>\n",
       "      <td>Spain</td>\n",
       "      <td>41.0</td>\n",
       "      <td>35 to 45</td>\n",
       "      <td>None</td>\n",
       "      <td>None</td>\n",
       "      <td>Non-Pokemon Fan</td>\n",
       "      <td>Non-LEGO Fan</td>\n",
       "      <td>None</td>\n",
       "      <td>None</td>\n",
       "      <td>Playstation</td>\n",
       "    </tr>\n",
       "    <tr>\n",
       "      <th>1</th>\n",
       "      <td>006fcgs2vp0u2aqe</td>\n",
       "      <td>Spain</td>\n",
       "      <td>19.0</td>\n",
       "      <td>18 to 24</td>\n",
       "      <td>Non-Sonic Fan</td>\n",
       "      <td>Non-Mario Fan</td>\n",
       "      <td>None</td>\n",
       "      <td>None</td>\n",
       "      <td>Non-Minecraft Fan</td>\n",
       "      <td>Non-Marvel Fan</td>\n",
       "      <td>Nintendo</td>\n",
       "    </tr>\n",
       "    <tr>\n",
       "      <th>2</th>\n",
       "      <td>00nuxxu04vzj5ar4</td>\n",
       "      <td>United States</td>\n",
       "      <td>42.0</td>\n",
       "      <td>35 to 45</td>\n",
       "      <td>Sonic Fan</td>\n",
       "      <td>Mario Fan</td>\n",
       "      <td>None</td>\n",
       "      <td>None</td>\n",
       "      <td>None</td>\n",
       "      <td>None</td>\n",
       "      <td>Madden</td>\n",
       "    </tr>\n",
       "    <tr>\n",
       "      <th>3</th>\n",
       "      <td>00tmgfk75uye4mmd</td>\n",
       "      <td>United States</td>\n",
       "      <td>15.0</td>\n",
       "      <td>13 to 17</td>\n",
       "      <td>Sonic Fan</td>\n",
       "      <td>Mario Fan</td>\n",
       "      <td>Pokemon Fan</td>\n",
       "      <td>LEGO Fan</td>\n",
       "      <td>Minecraft Fan</td>\n",
       "      <td>Marvel Fan</td>\n",
       "      <td>EA Sports Capcom</td>\n",
       "    </tr>\n",
       "    <tr>\n",
       "      <th>4</th>\n",
       "      <td>00xay62f5b80jcg6</td>\n",
       "      <td>United States</td>\n",
       "      <td>10.0</td>\n",
       "      <td>6 to 12</td>\n",
       "      <td>Non-Sonic Fan</td>\n",
       "      <td>Non-Mario Fan</td>\n",
       "      <td>Non-Pokemon Fan</td>\n",
       "      <td>Non-LEGO Fan</td>\n",
       "      <td>Non-Minecraft Fan</td>\n",
       "      <td>None</td>\n",
       "      <td>Nintendo</td>\n",
       "    </tr>\n",
       "  </tbody>\n",
       "</table>\n",
       "</div>"
      ],
      "text/plain": [
       "      RESPONDENT ID        COUNTRY   AGE AGE GROUP  SONIC FANSHIP  \\\n",
       "0  001bdqhr2698q362          Spain  41.0  35 to 45           None   \n",
       "1  006fcgs2vp0u2aqe          Spain  19.0  18 to 24  Non-Sonic Fan   \n",
       "2  00nuxxu04vzj5ar4  United States  42.0  35 to 45      Sonic Fan   \n",
       "3  00tmgfk75uye4mmd  United States  15.0  13 to 17      Sonic Fan   \n",
       "4  00xay62f5b80jcg6  United States  10.0   6 to 12  Non-Sonic Fan   \n",
       "\n",
       "   MARIO FANSHIP  POKEMON FANSHIP  LEGO FANSHIP  MINECRAFT FANSHIP  \\\n",
       "0           None  Non-Pokemon Fan  Non-LEGO Fan               None   \n",
       "1  Non-Mario Fan             None          None  Non-Minecraft Fan   \n",
       "2      Mario Fan             None          None               None   \n",
       "3      Mario Fan      Pokemon Fan      LEGO Fan      Minecraft Fan   \n",
       "4  Non-Mario Fan  Non-Pokemon Fan  Non-LEGO Fan  Non-Minecraft Fan   \n",
       "\n",
       "   MARVEL FANSHIP FAVORITE GAMING BRAND  \n",
       "0            None           Playstation  \n",
       "1  Non-Marvel Fan              Nintendo  \n",
       "2            None                Madden  \n",
       "3      Marvel Fan      EA Sports Capcom  \n",
       "4            None              Nintendo  "
      ]
     },
     "execution_count": 159,
     "metadata": {},
     "output_type": "execute_result"
    }
   ],
   "source": [
    "df.head()"
   ]
  },
  {
   "cell_type": "code",
   "execution_count": null,
   "metadata": {},
   "outputs": [],
   "source": []
  },
  {
   "cell_type": "markdown",
   "metadata": {},
   "source": [
    "# Favorite Gaming Brand per Age Group"
   ]
  },
  {
   "cell_type": "markdown",
   "metadata": {},
   "source": [
    "## Sonic"
   ]
  },
  {
   "cell_type": "code",
   "execution_count": 232,
   "metadata": {},
   "outputs": [
    {
     "name": "stdout",
     "output_type": "stream",
     "text": [
      "SONIC FANSHIP FAVORITE GAMING BRAND AGE GROUP  Count\n",
      "    Sonic Fan              nintendo  35 to 45     62\n",
      "    Sonic Fan              nintendo   6 to 12     56\n",
      "    Sonic Fan           playstation  35 to 45     47\n",
      "    Sonic Fan           playstation  25 to 34     41\n",
      "    Sonic Fan              nintendo  25 to 34     40\n"
     ]
    }
   ],
   "source": [
    "# Filter the DataFrame for responses where 'SONIC FANSHIP' is 'Sonic Fan'\n",
    "sonic_fans_df = df[df['SONIC FANSHIP'] == 'Sonic Fan']\n",
    "\n",
    "# Group by 'SONIC FANSHIP' and 'FAVORITE GAMING BRAND', and count the occurrences\n",
    "grouped_data = sonic_fans_df.groupby(['SONIC FANSHIP', 'FAVORITE GAMING BRAND', 'AGE GROUP']).size().reset_index(name='Count')\n",
    "\n",
    "# Sort the data by 'Count' column in descending order\n",
    "brand_data = grouped_data.sort_values(by='Count', ascending=False)\n",
    "\n",
    "# Display the most common responses (top 5)\n",
    "print(brand_data.head().to_string(index=False))"
   ]
  },
  {
   "cell_type": "markdown",
   "metadata": {},
   "source": [
    "## Mario"
   ]
  },
  {
   "cell_type": "code",
   "execution_count": 161,
   "metadata": {},
   "outputs": [
    {
     "name": "stdout",
     "output_type": "stream",
     "text": [
      "     MARIO FANSHIP FAVORITE GAMING BRAND AGE GROUP  Count\n",
      "973      Mario Fan              Nintendo  35 to 45    131\n",
      "972      Mario Fan              Nintendo  25 to 34    123\n",
      "974      Mario Fan              Nintendo   6 to 12     98\n",
      "971      Mario Fan              Nintendo  18 to 24     73\n",
      "1324     Mario Fan                  Sony  25 to 34     55\n"
     ]
    }
   ],
   "source": [
    "# Filter the DataFrame for responses where 'MARIO FANSHIP' is 'Mario Fan'\n",
    "mario_fans_df = df[df['MARIO FANSHIP'] == 'Mario Fan']\n",
    "\n",
    "# Group by 'SONIC FANSHIP' and 'FAVORITE GAMING BRAND', and count the occurrences\n",
    "grouped_data = mario_fans_df.groupby(['MARIO FANSHIP', 'FAVORITE GAMING BRAND', \"AGE GROUP\"]).size().reset_index(name='Count')\n",
    "\n",
    "# Sort the data by 'Count' column in descending order\n",
    "sorted_data = grouped_data.sort_values(by='Count', ascending=False)\n",
    "\n",
    "# Display the most common responses (top 5)\n",
    "print(sorted_data.head())"
   ]
  },
  {
   "cell_type": "markdown",
   "metadata": {},
   "source": [
    "## Pokemon"
   ]
  },
  {
   "cell_type": "code",
   "execution_count": 162,
   "metadata": {},
   "outputs": [
    {
     "name": "stdout",
     "output_type": "stream",
     "text": [
      "    POKEMON FANSHIP FAVORITE GAMING BRAND AGE GROUP  Count\n",
      "698     Pokemon Fan              Nintendo  25 to 34     70\n",
      "700     Pokemon Fan              Nintendo   6 to 12     58\n",
      "699     Pokemon Fan              Nintendo  35 to 45     49\n",
      "949     Pokemon Fan                  Sony  25 to 34     48\n",
      "697     Pokemon Fan              Nintendo  18 to 24     37\n"
     ]
    }
   ],
   "source": [
    "# Filter the DataFrame for responses where 'POKEMON FANSHIP' is 'Pokemon Fan'\n",
    "pokemon_fans_df = df[df['POKEMON FANSHIP'] == 'Pokemon Fan']\n",
    "\n",
    "# Group by 'POKEMON FANSHIP' and 'FAVORITE GAMING BRAND', and count the occurrences\n",
    "grouped_data = pokemon_fans_df.groupby(['POKEMON FANSHIP', 'FAVORITE GAMING BRAND', 'AGE GROUP']).size().reset_index(name='Count')\n",
    "\n",
    "# Sort the data by 'Count' column in descending order\n",
    "sorted_data = grouped_data.sort_values(by='Count', ascending=False)\n",
    "\n",
    "# Display the most common responses (top 5)\n",
    "print(sorted_data.head())"
   ]
  },
  {
   "cell_type": "markdown",
   "metadata": {},
   "source": [
    "## LEGO"
   ]
  },
  {
   "cell_type": "code",
   "execution_count": 163,
   "metadata": {},
   "outputs": [
    {
     "name": "stdout",
     "output_type": "stream",
     "text": [
      "    LEGO FANSHIP FAVORITE GAMING BRAND AGE GROUP  Count\n",
      "661     LEGO Fan              Nintendo   6 to 12     62\n",
      "660     LEGO Fan              Nintendo  35 to 45     57\n",
      "659     LEGO Fan              Nintendo  25 to 34     42\n",
      "658     LEGO Fan              Nintendo  18 to 24     34\n",
      "891     LEGO Fan                  Sony  25 to 34     31\n"
     ]
    }
   ],
   "source": [
    "# Filter the DataFrame for responses where 'LEGO FANSHIP' is 'LEGO Fan'\n",
    "LEGO_fans_df = df[df['LEGO FANSHIP'] == 'LEGO Fan']\n",
    "\n",
    "# Group by 'LEGO FANSHIP' and 'FAVORITE GAMING BRAND', and count the occurrences\n",
    "grouped_data = LEGO_fans_df.groupby(['LEGO FANSHIP', 'FAVORITE GAMING BRAND', \"AGE GROUP\"]).size().reset_index(name='Count')\n",
    "\n",
    "# Sort the data by 'Count' column in descending order\n",
    "sorted_data = grouped_data.sort_values(by='Count', ascending=False)\n",
    "\n",
    "# Display the most common responses (top 5)\n",
    "print(sorted_data.head())"
   ]
  },
  {
   "cell_type": "markdown",
   "metadata": {},
   "source": [
    "## Minecraft"
   ]
  },
  {
   "cell_type": "code",
   "execution_count": 164,
   "metadata": {},
   "outputs": [
    {
     "name": "stdout",
     "output_type": "stream",
     "text": [
      "    MINECRAFT FANSHIP FAVORITE GAMING BRAND AGE GROUP  Count\n",
      "640     Minecraft Fan              Nintendo   6 to 12     58\n",
      "639     Minecraft Fan              Nintendo  35 to 45     35\n",
      "636     Minecraft Fan              Nintendo  13 to 17     34\n",
      "637     Minecraft Fan              Nintendo  18 to 24     33\n",
      "638     Minecraft Fan              Nintendo  25 to 34     33\n"
     ]
    }
   ],
   "source": [
    "# Filter the DataFrame for responses where 'MINECRAFT FANSHIP' is 'Minecraft Fan'\n",
    "minecraft_fans_df = df[df['MINECRAFT FANSHIP'] == 'Minecraft Fan']\n",
    "\n",
    "# Group by 'Minecraft FANSHIP' and 'FAVORITE GAMING BRAND', and count the occurrences\n",
    "grouped_data = minecraft_fans_df.groupby(['MINECRAFT FANSHIP', 'FAVORITE GAMING BRAND', 'AGE GROUP']).size().reset_index(name='Count')\n",
    "\n",
    "# Sort the data by 'Count' column in descending order\n",
    "sorted_data = grouped_data.sort_values(by='Count', ascending=False)\n",
    "\n",
    "# Display the most common responses (top 5)\n",
    "print(sorted_data.head())"
   ]
  },
  {
   "cell_type": "markdown",
   "metadata": {},
   "source": [
    "## Marvel"
   ]
  },
  {
   "cell_type": "code",
   "execution_count": 165,
   "metadata": {},
   "outputs": [
    {
     "name": "stdout",
     "output_type": "stream",
     "text": [
      "    MARVEL FANSHIP FAVORITE GAMING BRAND AGE GROUP  Count\n",
      "323     Marvel Fan              Nintendo  35 to 45     23\n",
      "445     Marvel Fan                  Sony  25 to 34     18\n",
      "322     Marvel Fan              Nintendo  25 to 34     16\n",
      "324     Marvel Fan              Nintendo   6 to 12     14\n",
      "364     Marvel Fan           PlayStation   6 to 12     13\n"
     ]
    }
   ],
   "source": [
    "# Filter the DataFrame for responses where 'MARVEL FANSHIP' is 'Marvel Fan'\n",
    "marvel_fans_df = df[df['MARVEL FANSHIP'] == 'Marvel Fan']\n",
    "\n",
    "# Group by 'Marvel FANSHIP' and 'FAVORITE GAMING BRAND', and count the occurrences\n",
    "grouped_data = marvel_fans_df.groupby(['MARVEL FANSHIP', 'FAVORITE GAMING BRAND', 'AGE GROUP']).size().reset_index(name='Count')\n",
    "\n",
    "# Sort the data by 'Count' column in descending order\n",
    "sorted_data = grouped_data.sort_values(by='Count', ascending=False)\n",
    "\n",
    "# Display the most common responses (top 5)\n",
    "print(sorted_data.head())"
   ]
  },
  {
   "cell_type": "markdown",
   "metadata": {},
   "source": [
    "# Top 5 Brands per Fan Group\n",
    "    What are Sonic fans mentioning?"
   ]
  },
  {
   "cell_type": "markdown",
   "metadata": {},
   "source": [
    "## Sonic"
   ]
  },
  {
   "cell_type": "code",
   "execution_count": 173,
   "metadata": {},
   "outputs": [],
   "source": [
    "# Convert 'FAVORITE GAMING BRAND' to lowercase (or uppercase)\n",
    "df['FAVORITE GAMING BRAND'] = df['FAVORITE GAMING BRAND'].str.lower()\n"
   ]
  },
  {
   "cell_type": "code",
   "execution_count": 233,
   "metadata": {},
   "outputs": [
    {
     "name": "stdout",
     "output_type": "stream",
     "text": [
      "   FAVORITE GAMING BRAND  Count\n",
      "1               nintendo    197\n",
      "2            playstation    167\n",
      "3                   sony     97\n",
      "4                   xbox     68\n",
      "5           call of duty     61\n",
      "6              ea sports     59\n",
      "7                   fifa     46\n",
      "8                ubisoft     39\n",
      "9               fortnite     39\n",
      "10                roblox     34\n"
     ]
    }
   ],
   "source": [
    "\n",
    "# Filter the DataFrame for responses where 'SONIC FANSHIP' is 'Sonic Fan'\n",
    "sonic_fans_df = df[df['SONIC FANSHIP'] == 'Sonic Fan']\n",
    "\n",
    "# Group by 'SONIC FANSHIP' and 'FAVORITE GAMING BRAND', and count the occurrences\n",
    "sonic_fans_df = sonic_fans_df.groupby(['FAVORITE GAMING BRAND']).size().reset_index(name='Count')\n",
    "\n",
    "# Sort the data by 'Count' column in descending order\n",
    "sonic_fans_df = sonic_fans_df.sort_values(by='Count', ascending=False)\n",
    "\n",
    "# Reset index \n",
    "sonic_fans_df = sonic_fans_df.reset_index(drop=True)\n",
    "sonic_fans_df.index = sonic_fans_df.index + 1\n",
    "\n",
    "\n",
    "# Display the most common responses (top 5)\n",
    "print(sonic_fans_df.head(10))\n",
    "\n"
   ]
  },
  {
   "cell_type": "markdown",
   "metadata": {},
   "source": [
    "## Mario"
   ]
  },
  {
   "cell_type": "code",
   "execution_count": 226,
   "metadata": {},
   "outputs": [
    {
     "name": "stdout",
     "output_type": "stream",
     "text": [
      "   FAVORITE GAMING BRAND  Count\n",
      "1               nintendo    556\n",
      "2            playstation    263\n",
      "3                   sony    152\n",
      "4                   xbox    125\n",
      "5           call of duty    102\n",
      "6                   fifa     98\n",
      "7              ea sports     86\n",
      "8                  mario     67\n",
      "9               fortnite     66\n",
      "10               ubisoft     64\n"
     ]
    }
   ],
   "source": [
    "# Filter the DataFrame for responses where 'MARIO FANSHIP' is 'Mario Fan'\n",
    "mario_fans_df = df[df['MARIO FANSHIP'] == 'Mario Fan']\n",
    "\n",
    "# Group by 'SONIC FANSHIP' and 'FAVORITE GAMING BRAND', and count the occurrences\n",
    "grouped_data = mario_fans_df.groupby(['FAVORITE GAMING BRAND']).size().reset_index(name='Count')\n",
    "\n",
    "# Sort the data by 'Count' column in descending order\n",
    "sorted_data = grouped_data.sort_values(by='Count', ascending=False)\n",
    "\n",
    "# Reset index \n",
    "sorted_data = sorted_data.reset_index(drop=True)\n",
    "sorted_data.index = sorted_data.index + 1\n",
    "\n",
    "# Display the most common responses (top 5)\n",
    "print(sorted_data.head(10))"
   ]
  },
  {
   "cell_type": "markdown",
   "metadata": {},
   "source": [
    "## Pokemon"
   ]
  },
  {
   "cell_type": "code",
   "execution_count": 227,
   "metadata": {},
   "outputs": [
    {
     "name": "stdout",
     "output_type": "stream",
     "text": [
      "   FAVORITE GAMING BRAND  Count\n",
      "1               nintendo    280\n",
      "2            playstation    158\n",
      "3                   sony    113\n",
      "4                   xbox     75\n",
      "5           call of duty     69\n",
      "6              ea sports     64\n",
      "7                   fifa     62\n",
      "8               fortnite     57\n",
      "9                ubisoft     42\n",
      "10             minecraft     39\n"
     ]
    }
   ],
   "source": [
    "# Filter the DataFrame for responses where 'POKEMON FANSHIP' is 'Pokemon Fan'\n",
    "pokemon_fans_df = df[df['POKEMON FANSHIP'] == 'Pokemon Fan']\n",
    "\n",
    "# Group by 'POKEMON FANSHIP' and 'FAVORITE GAMING BRAND', and count the occurrences\n",
    "grouped_data = pokemon_fans_df.groupby([ 'FAVORITE GAMING BRAND']).size().reset_index(name='Count')\n",
    "\n",
    "# Sort the data by 'Count' column in descending order\n",
    "sorted_data = grouped_data.sort_values(by='Count', ascending=False)\n",
    "\n",
    "# Reset index \n",
    "sorted_data = sorted_data.reset_index(drop=True)\n",
    "sorted_data.index = sorted_data.index + 1\n",
    "\n",
    "# Display the most common responses (top 5)\n",
    "print(sorted_data.head(10))"
   ]
  },
  {
   "cell_type": "markdown",
   "metadata": {},
   "source": [
    "## LEGO"
   ]
  },
  {
   "cell_type": "code",
   "execution_count": 228,
   "metadata": {},
   "outputs": [
    {
     "name": "stdout",
     "output_type": "stream",
     "text": [
      "   FAVORITE GAMING BRAND  Count\n",
      "1               nintendo    258\n",
      "2            playstation    184\n",
      "3                   sony     98\n",
      "4                   xbox     75\n",
      "5           call of duty     63\n",
      "6              ea sports     58\n",
      "7               fortnite     54\n",
      "8                   fifa     53\n",
      "9                 roblox     39\n",
      "10               ubisoft     39\n"
     ]
    }
   ],
   "source": [
    "# Filter the DataFrame for responses where 'LEGO FANSHIP' is 'LEGO Fan'\n",
    "LEGO_fans_df = df[df['LEGO FANSHIP'] == 'LEGO Fan']\n",
    "\n",
    "# Group by 'LEGO FANSHIP' and 'FAVORITE GAMING BRAND', and count the occurrences\n",
    "grouped_data = LEGO_fans_df.groupby(['FAVORITE GAMING BRAND']).size().reset_index(name='Count')\n",
    "\n",
    "# Sort the data by 'Count' column in descending order\n",
    "sorted_data = grouped_data.sort_values(by='Count', ascending=False)\n",
    "\n",
    "# Reset index \n",
    "sorted_data = sorted_data.reset_index(drop=True)\n",
    "sorted_data.index = sorted_data.index + 1\n",
    "\n",
    "# Display the most common responses (top 5)\n",
    "print(sorted_data.head(10))"
   ]
  },
  {
   "cell_type": "markdown",
   "metadata": {},
   "source": [
    "## Minecraft"
   ]
  },
  {
   "cell_type": "code",
   "execution_count": 229,
   "metadata": {},
   "outputs": [
    {
     "name": "stdout",
     "output_type": "stream",
     "text": [
      "   FAVORITE GAMING BRAND  Count\n",
      "1               nintendo    235\n",
      "2            playstation    157\n",
      "3                   sony     79\n",
      "4                   xbox     77\n",
      "5           call of duty     74\n",
      "6              minecraft     72\n",
      "7               fortnite     69\n",
      "8              ea sports     60\n",
      "9                 roblox     56\n",
      "10                  fifa     55\n"
     ]
    }
   ],
   "source": [
    "# Filter the DataFrame for responses where 'MINECRAFT FANSHIP' is 'Minecraft Fan'\n",
    "minecraft_fans_df = df[df['MINECRAFT FANSHIP'] == 'Minecraft Fan']\n",
    "\n",
    "# Group by 'Minecraft FANSHIP' and 'FAVORITE GAMING BRAND', and count the occurrences\n",
    "grouped_data = minecraft_fans_df.groupby([ 'FAVORITE GAMING BRAND']).size().reset_index(name='Count')\n",
    "\n",
    "# Sort the data by 'Count' column in descending order\n",
    "sorted_data = grouped_data.sort_values(by='Count', ascending=False)\n",
    "\n",
    "# Reset index \n",
    "sorted_data = sorted_data.reset_index(drop=True)\n",
    "sorted_data.index = sorted_data.index + 1\n",
    "\n",
    "# Display the most common responses (top 5)\n",
    "print(sorted_data.head(10))"
   ]
  },
  {
   "cell_type": "markdown",
   "metadata": {},
   "source": [
    "## Marvel"
   ]
  },
  {
   "cell_type": "code",
   "execution_count": 212,
   "metadata": {},
   "outputs": [
    {
     "name": "stdout",
     "output_type": "stream",
     "text": [
      "   MARVEL FANSHIP FAVORITE GAMING BRAND  Count\n",
      "1      Marvel Fan              nintendo     80\n",
      "2      Marvel Fan           playstation     79\n",
      "3      Marvel Fan                  sony     56\n",
      "4      Marvel Fan             ea sports     35\n",
      "5      Marvel Fan                  xbox     33\n",
      "6      Marvel Fan          call of duty     28\n",
      "7      Marvel Fan                  fifa     24\n",
      "8      Marvel Fan              fortnite     19\n",
      "9      Marvel Fan               ubisoft     19\n",
      "10     Marvel Fan              rockstar     14\n"
     ]
    }
   ],
   "source": [
    "# Filter the DataFrame for responses where 'MARVEL FANSHIP' is 'Marvel Fan'\n",
    "marvel_fans_df = df[df['MARVEL FANSHIP'] == 'Marvel Fan']\n",
    "\n",
    "# Group by 'Marvel FANSHIP' and 'FAVORITE GAMING BRAND', and count the occurrences\n",
    "grouped_data = marvel_fans_df.groupby(['FAVORITE GAMING BRAND']).size().reset_index(name='Count')\n",
    "\n",
    "# Sort the data by 'Count' column in descending order\n",
    "sorted_data = grouped_data.sort_values(by='Count', ascending=False)\n",
    "\n",
    "# Reset index \n",
    "sorted_data = sorted_data.reset_index(drop=True)\n",
    "sorted_data.index = sorted_data.index + 1\n",
    "\n",
    "# Display the most common responses (top 5)\n",
    "print(sorted_data.head(10))"
   ]
  },
  {
   "cell_type": "markdown",
   "metadata": {},
   "source": [
    "# Top 5 Brands Per Age Group (not w/ regards to fan group)\n",
    "    What are 6-12 responding?"
   ]
  },
  {
   "cell_type": "code",
   "execution_count": 213,
   "metadata": {},
   "outputs": [
    {
     "name": "stdout",
     "output_type": "stream",
     "text": [
      "  AGE GROUP FAVORITE GAMING BRAND  Count\n",
      "1  35 to 45              nintendo    264\n",
      "2  25 to 34              nintendo    227\n",
      "3   6 to 12              nintendo    162\n",
      "4  35 to 45           playstation    155\n",
      "5  25 to 34           playstation    154\n"
     ]
    }
   ],
   "source": [
    "age_group_df = df\n",
    "\n",
    "grouped_data = age_group_df.groupby(['AGE GROUP','FAVORITE GAMING BRAND']).size().reset_index(name='Count')\n",
    "\n",
    "sorted_data = grouped_data.sort_values(by='Count', ascending=False)\n",
    "\n",
    "sorted_data = sorted_data.reset_index(drop=True)\n",
    "sorted_data.index = sorted_data.index + 1\n",
    "\n",
    "print(sorted_data.head())"
   ]
  },
  {
   "cell_type": "markdown",
   "metadata": {},
   "source": [
    "## 6-12"
   ]
  },
  {
   "cell_type": "code",
   "execution_count": 214,
   "metadata": {},
   "outputs": [
    {
     "name": "stdout",
     "output_type": "stream",
     "text": [
      "   AGE GROUP FAVORITE GAMING BRAND  Count\n",
      "1    6 to 12              nintendo    162\n",
      "2    6 to 12           playstation     97\n",
      "3    6 to 12                roblox     65\n",
      "4    6 to 12                  fifa     49\n",
      "5    6 to 12             ea sports     41\n",
      "6    6 to 12          call of duty     41\n",
      "7    6 to 12              fortnite     40\n",
      "8    6 to 12             minecraft     36\n",
      "9    6 to 12                  xbox     33\n",
      "10   6 to 12                 mario     30\n"
     ]
    }
   ],
   "source": [
    "age_group_df = df[df['AGE GROUP'] == '6 to 12']\n",
    "\n",
    "# Group by 'AGE GROUP' and 'FAVORITE GAMING BRAND', and count the occurrences\n",
    "grouped_data = age_group_df.groupby(['AGE GROUP','FAVORITE GAMING BRAND']).size().reset_index(name='Count')\n",
    "\n",
    "# Sort the data by 'Count' column in descending order\n",
    "sorted_data1 = grouped_data.sort_values(by='Count', ascending=False)\n",
    "\n",
    "sorted_data1 = sorted_data1.reset_index(drop=True)\n",
    "sorted_data1.index = sorted_data1.index + 1\n",
    "\n",
    "# Display the most common responses (top 10)\n",
    "print(sorted_data1.head(10))"
   ]
  },
  {
   "cell_type": "markdown",
   "metadata": {},
   "source": [
    "## 13-17"
   ]
  },
  {
   "cell_type": "code",
   "execution_count": 215,
   "metadata": {},
   "outputs": [
    {
     "name": "stdout",
     "output_type": "stream",
     "text": [
      "   AGE GROUP FAVORITE GAMING BRAND  Count\n",
      "1   13 to 17           playstation     95\n",
      "2   13 to 17              nintendo     71\n",
      "3   13 to 17              fortnite     48\n",
      "4   13 to 17                  sony     43\n",
      "5   13 to 17          call of duty     33\n",
      "6   13 to 17                roblox     30\n",
      "7   13 to 17                  xbox     29\n",
      "8   13 to 17                  fifa     29\n",
      "9   13 to 17             ea sports     21\n",
      "10  13 to 17             minecraft     21\n"
     ]
    }
   ],
   "source": [
    "age_group_df = df[df['AGE GROUP'] == '13 to 17']\n",
    "\n",
    "# Group by 'AGE GROUP' and 'FAVORITE GAMING BRAND', and count the occurrences\n",
    "grouped_data = age_group_df.groupby(['AGE GROUP','FAVORITE GAMING BRAND']).size().reset_index(name='Count')\n",
    "\n",
    "# Sort the data by 'Count' column in descending order\n",
    "sorted_data2 = grouped_data.sort_values(by='Count', ascending=False)\n",
    "\n",
    "sorted_data2 = sorted_data2.reset_index(drop=True)\n",
    "sorted_data2.index = sorted_data2.index + 1\n",
    "\n",
    "# Display the most common responses (top 10)\n",
    "print(sorted_data2.head(10))\n"
   ]
  },
  {
   "cell_type": "markdown",
   "metadata": {},
   "source": [
    "## 18-24"
   ]
  },
  {
   "cell_type": "code",
   "execution_count": 216,
   "metadata": {},
   "outputs": [
    {
     "name": "stdout",
     "output_type": "stream",
     "text": [
      "   AGE GROUP FAVORITE GAMING BRAND  Count\n",
      "1   18 to 24              nintendo    152\n",
      "2   18 to 24           playstation     62\n",
      "3   18 to 24                  xbox     52\n",
      "4   18 to 24                  sony     44\n",
      "5   18 to 24               ubisoft     28\n",
      "6   18 to 24              fortnite     22\n",
      "7   18 to 24                  fifa     21\n",
      "8   18 to 24          call of duty     19\n",
      "9   18 to 24             ea sports     17\n",
      "10  18 to 24                roblox     14\n"
     ]
    }
   ],
   "source": [
    "age_group_df = df[df['AGE GROUP'] == '18 to 24']\n",
    "\n",
    "# Group by 'AGE GROUP' and 'FAVORITE GAMING BRAND', and count the occurrences\n",
    "grouped_data = age_group_df.groupby(['AGE GROUP','FAVORITE GAMING BRAND']).size().reset_index(name='Count')\n",
    "\n",
    "# Sort the data by 'Count' column in descending order\n",
    "sorted_data3 = grouped_data.sort_values(by='Count', ascending=False)\n",
    "\n",
    "sorted_data3 = sorted_data3.reset_index(drop=True)\n",
    "sorted_data3.index = sorted_data3.index + 1\n",
    "\n",
    "# Display the most common responses (top 10)\n",
    "print(sorted_data3.head(10))\n"
   ]
  },
  {
   "cell_type": "markdown",
   "metadata": {},
   "source": [
    "## 25-34"
   ]
  },
  {
   "cell_type": "code",
   "execution_count": 217,
   "metadata": {},
   "outputs": [
    {
     "name": "stdout",
     "output_type": "stream",
     "text": [
      "   AGE GROUP FAVORITE GAMING BRAND  Count\n",
      "1   25 to 34              nintendo    227\n",
      "2   25 to 34           playstation    154\n",
      "3   25 to 34                  sony    107\n",
      "4   25 to 34                  xbox     88\n",
      "5   25 to 34          call of duty     63\n",
      "6   25 to 34             ea sports     59\n",
      "7   25 to 34                  fifa     55\n",
      "8   25 to 34               ubisoft     52\n",
      "9   25 to 34              fortnite     28\n",
      "10  25 to 34              ea games     26\n",
      "11  25 to 34           candy crush     24\n",
      "12  25 to 34            activision     22\n",
      "13  25 to 34              bethesda     22\n",
      "14  25 to 34                 mario     21\n",
      "15  25 to 34              rockstar     21\n"
     ]
    }
   ],
   "source": [
    "age_group_df = df[df['AGE GROUP'] == '25 to 34']\n",
    "\n",
    "# Group by 'AGE GROUP' and 'FAVORITE GAMING BRAND', and count the occurrences\n",
    "grouped_data = age_group_df.groupby(['AGE GROUP','FAVORITE GAMING BRAND']).size().reset_index(name='Count')\n",
    "\n",
    "# Sort the data by 'Count' column in descending order\n",
    "sorted_data4 = grouped_data.sort_values(by='Count', ascending=False)\n",
    "\n",
    "sorted_data4 = sorted_data4.reset_index(drop=True)\n",
    "sorted_data4.index = sorted_data4.index + 1\n",
    "\n",
    "# Display the most common responses (top 10)\n",
    "print(sorted_data4.head(15))"
   ]
  },
  {
   "cell_type": "markdown",
   "metadata": {},
   "source": [
    "## 35-45"
   ]
  },
  {
   "cell_type": "code",
   "execution_count": 207,
   "metadata": {},
   "outputs": [
    {
     "name": "stdout",
     "output_type": "stream",
     "text": [
      "   AGE GROUP FAVORITE GAMING BRAND  Count\n",
      "1   35 to 45              nintendo    264\n",
      "2   35 to 45           playstation    155\n",
      "3   35 to 45                  sony     82\n",
      "4   35 to 45                  xbox     77\n",
      "5   35 to 45                  fifa     70\n",
      "6   35 to 45             ea sports     64\n",
      "7   35 to 45          call of duty     50\n",
      "8   35 to 45           candy crush     42\n",
      "9   35 to 45                  none     39\n",
      "10  35 to 45               ubisoft     31\n",
      "11  35 to 45                 mario     29\n",
      "12  35 to 45              blizzard     25\n",
      "13  35 to 45          play station     25\n",
      "14  35 to 45                  sega     21\n",
      "15  35 to 45              ea sport     19\n"
     ]
    }
   ],
   "source": [
    "age_group_df = df[df['AGE GROUP'] == '35 to 45']\n",
    "\n",
    "# Group by 'AGE GROUP' and 'FAVORITE GAMING BRAND', and count the occurrences\n",
    "grouped_data = age_group_df.groupby(['AGE GROUP','FAVORITE GAMING BRAND']).size().reset_index(name='Count')\n",
    "\n",
    "# Sort the data by 'Count' column in descending order\n",
    "sorted_data5 = grouped_data.sort_values(by='Count', ascending=False)\n",
    "\n",
    "sorted_data5 = sorted_data5.reset_index(drop=True)\n",
    "sorted_data5.index = sorted_data5.index + 1\n",
    "\n",
    "# Display the most common responses (top 10)\n",
    "print(sorted_data5.head(15))"
   ]
  },
  {
   "cell_type": "markdown",
   "metadata": {},
   "source": [
    "# Upcoming Games"
   ]
  },
  {
   "cell_type": "code",
   "execution_count": 218,
   "metadata": {},
   "outputs": [
    {
     "name": "stderr",
     "output_type": "stream",
     "text": [
      "/Users/lucasmattox/anaconda3/lib/python3.11/site-packages/openpyxl/packaging/relationship.py:136: UserWarning: xl/pivotCache/_rels/pivotCacheDefinition1.xml.rels contains invalid dependency definitions\n",
      "  warn(msg)\n",
      "/Users/lucasmattox/anaconda3/lib/python3.11/site-packages/openpyxl/packaging/relationship.py:136: UserWarning: xl/pivotCache/_rels/pivotCacheDefinition2.xml.rels contains invalid dependency definitions\n",
      "  warn(msg)\n"
     ]
    },
    {
     "data": {
      "text/html": [
       "<div>\n",
       "<style scoped>\n",
       "    .dataframe tbody tr th:only-of-type {\n",
       "        vertical-align: middle;\n",
       "    }\n",
       "\n",
       "    .dataframe tbody tr th {\n",
       "        vertical-align: top;\n",
       "    }\n",
       "\n",
       "    .dataframe thead th {\n",
       "        text-align: right;\n",
       "    }\n",
       "</style>\n",
       "<table border=\"1\" class=\"dataframe\">\n",
       "  <thead>\n",
       "    <tr style=\"text-align: right;\">\n",
       "      <th></th>\n",
       "      <th>RESPONDENT ID</th>\n",
       "      <th>COUNTRY</th>\n",
       "      <th>AGE</th>\n",
       "      <th>AGE GROUP</th>\n",
       "      <th>SONIC FANSHIP</th>\n",
       "      <th>MARIO FANSHIP</th>\n",
       "      <th>POKEMON FANSHIP</th>\n",
       "      <th>LEGO FANSHIP</th>\n",
       "      <th>MINECRAFT FANSHIP</th>\n",
       "      <th>MARVEL FANSHIP</th>\n",
       "      <th>UPCOMING GAMES EXCITED ABOUT</th>\n",
       "      <th>UPCOMING GAMES EXCITED ABOUT 2</th>\n",
       "      <th>UPCOMING GAMES EXCITED ABOUT 3</th>\n",
       "      <th>UPCOMING GAMES EXCITED ABOUT 4</th>\n",
       "      <th>UPCOMING GAMES EXCITED ABOUT 5</th>\n",
       "    </tr>\n",
       "  </thead>\n",
       "  <tbody>\n",
       "    <tr>\n",
       "      <th>0</th>\n",
       "      <td>001bdqhr2698q362</td>\n",
       "      <td>Spain</td>\n",
       "      <td>41.0</td>\n",
       "      <td>35 to 45</td>\n",
       "      <td>None</td>\n",
       "      <td>None</td>\n",
       "      <td>Non-Pokemon Fan</td>\n",
       "      <td>Non-LEGO Fan</td>\n",
       "      <td>None</td>\n",
       "      <td>None</td>\n",
       "      <td>ninguno</td>\n",
       "      <td>Ninguno</td>\n",
       "      <td>None</td>\n",
       "      <td>None</td>\n",
       "      <td>None</td>\n",
       "    </tr>\n",
       "    <tr>\n",
       "      <th>1</th>\n",
       "      <td>006fcgs2vp0u2aqe</td>\n",
       "      <td>Spain</td>\n",
       "      <td>19.0</td>\n",
       "      <td>18 to 24</td>\n",
       "      <td>Non-Sonic Fan</td>\n",
       "      <td>Non-Mario Fan</td>\n",
       "      <td>None</td>\n",
       "      <td>None</td>\n",
       "      <td>Non-Minecraft Fan</td>\n",
       "      <td>Non-Marvel Fan</td>\n",
       "      <td>fifa 24</td>\n",
       "      <td>Zelda</td>\n",
       "      <td>Mario Kars</td>\n",
       "      <td>None</td>\n",
       "      <td>None</td>\n",
       "    </tr>\n",
       "    <tr>\n",
       "      <th>2</th>\n",
       "      <td>00nuxxu04vzj5ar4</td>\n",
       "      <td>United States</td>\n",
       "      <td>42.0</td>\n",
       "      <td>35 to 45</td>\n",
       "      <td>Sonic Fan</td>\n",
       "      <td>Mario Fan</td>\n",
       "      <td>None</td>\n",
       "      <td>None</td>\n",
       "      <td>None</td>\n",
       "      <td>None</td>\n",
       "      <td>nba 2k24</td>\n",
       "      <td>Madden 24</td>\n",
       "      <td>None</td>\n",
       "      <td>None</td>\n",
       "      <td>None</td>\n",
       "    </tr>\n",
       "    <tr>\n",
       "      <th>3</th>\n",
       "      <td>00tmgfk75uye4mmd</td>\n",
       "      <td>United States</td>\n",
       "      <td>15.0</td>\n",
       "      <td>13 to 17</td>\n",
       "      <td>Sonic Fan</td>\n",
       "      <td>Mario Fan</td>\n",
       "      <td>Pokemon Fan</td>\n",
       "      <td>LEGO Fan</td>\n",
       "      <td>Minecraft Fan</td>\n",
       "      <td>Marvel Fan</td>\n",
       "      <td>call of duty</td>\n",
       "      <td>Madden NFL</td>\n",
       "      <td>NBA live</td>\n",
       "      <td>Resident evil</td>\n",
       "      <td>War of Warcraft</td>\n",
       "    </tr>\n",
       "    <tr>\n",
       "      <th>4</th>\n",
       "      <td>00xay62f5b80jcg6</td>\n",
       "      <td>United States</td>\n",
       "      <td>10.0</td>\n",
       "      <td>6 to 12</td>\n",
       "      <td>Non-Sonic Fan</td>\n",
       "      <td>Non-Mario Fan</td>\n",
       "      <td>Non-Pokemon Fan</td>\n",
       "      <td>Non-LEGO Fan</td>\n",
       "      <td>Non-Minecraft Fan</td>\n",
       "      <td>None</td>\n",
       "      <td>just dance</td>\n",
       "      <td>Mario</td>\n",
       "      <td>None</td>\n",
       "      <td>None</td>\n",
       "      <td>None</td>\n",
       "    </tr>\n",
       "  </tbody>\n",
       "</table>\n",
       "</div>"
      ],
      "text/plain": [
       "      RESPONDENT ID        COUNTRY   AGE AGE GROUP  SONIC FANSHIP  \\\n",
       "0  001bdqhr2698q362          Spain  41.0  35 to 45           None   \n",
       "1  006fcgs2vp0u2aqe          Spain  19.0  18 to 24  Non-Sonic Fan   \n",
       "2  00nuxxu04vzj5ar4  United States  42.0  35 to 45      Sonic Fan   \n",
       "3  00tmgfk75uye4mmd  United States  15.0  13 to 17      Sonic Fan   \n",
       "4  00xay62f5b80jcg6  United States  10.0   6 to 12  Non-Sonic Fan   \n",
       "\n",
       "   MARIO FANSHIP  POKEMON FANSHIP  LEGO FANSHIP  MINECRAFT FANSHIP  \\\n",
       "0           None  Non-Pokemon Fan  Non-LEGO Fan               None   \n",
       "1  Non-Mario Fan             None          None  Non-Minecraft Fan   \n",
       "2      Mario Fan             None          None               None   \n",
       "3      Mario Fan      Pokemon Fan      LEGO Fan      Minecraft Fan   \n",
       "4  Non-Mario Fan  Non-Pokemon Fan  Non-LEGO Fan  Non-Minecraft Fan   \n",
       "\n",
       "   MARVEL FANSHIP UPCOMING GAMES EXCITED ABOUT UPCOMING GAMES EXCITED ABOUT 2  \\\n",
       "0            None                      ninguno                        Ninguno   \n",
       "1  Non-Marvel Fan                      fifa 24                          Zelda   \n",
       "2            None                     nba 2k24                      Madden 24   \n",
       "3      Marvel Fan                 call of duty                     Madden NFL   \n",
       "4            None                   just dance                          Mario   \n",
       "\n",
       "  UPCOMING GAMES EXCITED ABOUT 3 UPCOMING GAMES EXCITED ABOUT 4  \\\n",
       "0                           None                           None   \n",
       "1                     Mario Kars                           None   \n",
       "2                           None                           None   \n",
       "3                       NBA live                  Resident evil   \n",
       "4                           None                           None   \n",
       "\n",
       "  UPCOMING GAMES EXCITED ABOUT 5  \n",
       "0                           None  \n",
       "1                           None  \n",
       "2                           None  \n",
       "3                War of Warcraft  \n",
       "4                           None  "
      ]
     },
     "execution_count": 218,
     "metadata": {},
     "output_type": "execute_result"
    }
   ],
   "source": [
    "# Load the workbook\n",
    "workbook2 = openpyxl.load_workbook(\"OE_Data_cleaned.xlsx\")\n",
    "\n",
    "# Select the third sheet by index\n",
    "sheet_index = 2  # Indexing is zero-based, so 2 corresponds to the third sheet\n",
    "sheet2 = workbook2.worksheets[sheet_index]\n",
    "\n",
    "data2 = sheet2.values\n",
    "data2 = list(data2)\n",
    "\n",
    "# Create a DataFrame from the list of lists\n",
    "df2 = pd.DataFrame(data2[1:], columns=data2[0])  # Skip the first row (header)\n",
    "\n",
    "df2['UPCOMING GAMES EXCITED ABOUT'] = df2['UPCOMING GAMES EXCITED ABOUT'].str.lower()\n",
    "\n",
    "df2.head()"
   ]
  },
  {
   "cell_type": "markdown",
   "metadata": {},
   "source": [
    "6-12"
   ]
  },
  {
   "cell_type": "code",
   "execution_count": 219,
   "metadata": {},
   "outputs": [
    {
     "name": "stdout",
     "output_type": "stream",
     "text": [
      "   UPCOMING GAMES EXCITED ABOUT  Count\n",
      "1                          fifa     65\n",
      "2                  call of duty     62\n",
      "3                      fortnite     55\n",
      "4                        roblox     49\n",
      "5                     minecraft     47\n",
      "6                         mario     46\n",
      "7                           gta     22\n",
      "8                   super mario     19\n",
      "9                    mario kart     18\n",
      "10                        zelda     18\n"
     ]
    }
   ],
   "source": [
    "age_group_df = df2[df2['AGE GROUP'] == '6 to 12']\n",
    "\n",
    "# Group by 'AGE GROUP' and 'FAVORITE GAMING BRAND', and count the occurrences\n",
    "grouped_data = age_group_df.groupby(['UPCOMING GAMES EXCITED ABOUT']).size().reset_index(name='Count')\n",
    "\n",
    "# Sort the data by 'Count' column in descending order\n",
    "upcoming_games_data1 = grouped_data.sort_values(by='Count', ascending=False)\n",
    "\n",
    "# Reset index starting from 1\n",
    "upcoming_games_data1.reset_index(drop=True, inplace=True)\n",
    "upcoming_games_data1.index = upcoming_games_data1.index + 1\n",
    "\n",
    "# Display the most common responses (top 10)\n",
    "print(upcoming_games_data1.head(10))"
   ]
  },
  {
   "cell_type": "markdown",
   "metadata": {},
   "source": [
    "13-17"
   ]
  },
  {
   "cell_type": "code",
   "execution_count": 220,
   "metadata": {},
   "outputs": [
    {
     "name": "stdout",
     "output_type": "stream",
     "text": [
      "   UPCOMING GAMES EXCITED ABOUT  Count\n",
      "1                  call of duty     60\n",
      "2                          fifa     57\n",
      "3                      fortnite     47\n",
      "4                           gta     27\n",
      "5                     minecraft     26\n",
      "6                        roblox     18\n",
      "7                       fornite     16\n",
      "8                         mario     16\n",
      "9                       fifa 23     14\n",
      "10                       madden     14\n"
     ]
    }
   ],
   "source": [
    "age_group_df = df2[df2['AGE GROUP'] == '13 to 17']\n",
    "\n",
    "# Group by 'AGE GROUP' and 'FAVORITE GAMING BRAND', and count the occurrences\n",
    "grouped_data = age_group_df.groupby(['UPCOMING GAMES EXCITED ABOUT']).size().reset_index(name='Count')\n",
    "\n",
    "# Sort the data by 'Count' column in descending order\n",
    "upcoming_games_data2 = grouped_data.sort_values(by='Count', ascending=False)\n",
    "\n",
    "# Reset index starting from 1\n",
    "upcoming_games_data2.reset_index(drop=True, inplace=True)\n",
    "upcoming_games_data2.index = upcoming_games_data2.index + 1\n",
    "\n",
    "# Display the most common responses (top 10)\n",
    "print(upcoming_games_data2.head(10))"
   ]
  },
  {
   "cell_type": "markdown",
   "metadata": {},
   "source": [
    "18-24"
   ]
  },
  {
   "cell_type": "code",
   "execution_count": 221,
   "metadata": {},
   "outputs": [
    {
     "name": "stdout",
     "output_type": "stream",
     "text": [
      "   UPCOMING GAMES EXCITED ABOUT  Count\n",
      "1                      fortnite     48\n",
      "2                  call of duty     44\n",
      "3                         gta 6     42\n",
      "4                          fifa     33\n",
      "5                     minecraft     21\n",
      "6                           gta     16\n",
      "7                         mario     13\n",
      "8                     starfield     12\n",
      "9                        roblox     12\n",
      "10                      fornite     10\n"
     ]
    }
   ],
   "source": [
    "age_group_df = df2[df2['AGE GROUP'] == '18 to 24']\n",
    "\n",
    "# Group by 'AGE GROUP' and 'FAVORITE GAMING BRAND', and count the occurrences\n",
    "grouped_data = age_group_df.groupby(['UPCOMING GAMES EXCITED ABOUT']).size().reset_index(name='Count')\n",
    "\n",
    "# Sort the data by 'Count' column in descending order\n",
    "upcoming_games_data3 = grouped_data.sort_values(by='Count', ascending=False)\n",
    "\n",
    "# Reset index starting from 1\n",
    "upcoming_games_data3.reset_index(drop=True, inplace=True)\n",
    "upcoming_games_data3.index = upcoming_games_data3.index + 1\n",
    "\n",
    "# Display the most common responses (top 10)\n",
    "print(upcoming_games_data3.head(10))"
   ]
  },
  {
   "cell_type": "markdown",
   "metadata": {},
   "source": [
    "25-34"
   ]
  },
  {
   "cell_type": "code",
   "execution_count": 222,
   "metadata": {},
   "outputs": [
    {
     "name": "stdout",
     "output_type": "stream",
     "text": [
      "   UPCOMING GAMES EXCITED ABOUT  Count\n",
      "1                          fifa    107\n",
      "2                  call of duty    100\n",
      "3                      fortnite     53\n",
      "4                         gta 6     38\n",
      "5                           gta     37\n",
      "6                     starfield     28\n",
      "7                         zelda     27\n",
      "8                         mario     25\n",
      "9               hogwarts legacy     25\n",
      "10                       madden     18\n"
     ]
    }
   ],
   "source": [
    "age_group_df = df2[df2['AGE GROUP'] == '25 to 34']\n",
    "\n",
    "# Group by 'AGE GROUP' and 'FAVORITE GAMING BRAND', and count the occurrences\n",
    "grouped_data = age_group_df.groupby(['UPCOMING GAMES EXCITED ABOUT']).size().reset_index(name='Count')\n",
    "\n",
    "# Sort the data by 'Count' column in descending order\n",
    "upcoming_games_data4 = grouped_data.sort_values(by='Count', ascending=False)\n",
    "\n",
    "# Reset index starting from 1\n",
    "upcoming_games_data4.reset_index(drop=True, inplace=True)\n",
    "upcoming_games_data4.index = upcoming_games_data4.index + 1\n",
    "\n",
    "# Display the most common responses (top 10)\n",
    "print(upcoming_games_data4.head(10))"
   ]
  },
  {
   "cell_type": "markdown",
   "metadata": {},
   "source": [
    "35-45"
   ]
  },
  {
   "cell_type": "code",
   "execution_count": 223,
   "metadata": {},
   "outputs": [
    {
     "name": "stdout",
     "output_type": "stream",
     "text": [
      "   UPCOMING GAMES EXCITED ABOUT  Count\n",
      "1                          fifa    103\n",
      "2                  call of duty     93\n",
      "3                      fortnite     43\n",
      "4                         mario     40\n",
      "5                         zelda     32\n",
      "6                           gta     29\n",
      "7                   candy crush     28\n",
      "8                     minecraft     24\n",
      "9                          none     20\n",
      "10                      fifa 23     20\n"
     ]
    }
   ],
   "source": [
    "age_group_df = df2[df2['AGE GROUP'] == '35 to 45']\n",
    "\n",
    "# Group by 'AGE GROUP' and 'FAVORITE GAMING BRAND', and count the occurrences\n",
    "grouped_data = age_group_df.groupby(['UPCOMING GAMES EXCITED ABOUT']).size().reset_index(name='Count')\n",
    "\n",
    "# Sort the data by 'Count' column in descending order\n",
    "upcoming_games_data5 = grouped_data.sort_values(by='Count', ascending=False)\n",
    "\n",
    "# Reset index starting from 1 and adjust the index to start from 1\n",
    "upcoming_games_data5 = upcoming_games_data5.reset_index(drop=True)\n",
    "upcoming_games_data5.index = upcoming_games_data5.index + 1\n",
    "\n",
    "# Display the most common responses (top 10)\n",
    "print(upcoming_games_data5.head(10))"
   ]
  }
 ],
 "metadata": {
  "kernelspec": {
   "display_name": "base",
   "language": "python",
   "name": "python3"
  },
  "language_info": {
   "codemirror_mode": {
    "name": "ipython",
    "version": 3
   },
   "file_extension": ".py",
   "mimetype": "text/x-python",
   "name": "python",
   "nbconvert_exporter": "python",
   "pygments_lexer": "ipython3",
   "version": "3.11.4"
  },
  "orig_nbformat": 4
 },
 "nbformat": 4,
 "nbformat_minor": 2
}
